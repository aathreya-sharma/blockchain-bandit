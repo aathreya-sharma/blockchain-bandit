{
  "nbformat": 4,
  "nbformat_minor": 0,
  "metadata": {
    "colab": {
      "provenance": [],
      "authorship_tag": "ABX9TyNlN+gU85ibAq6b5yWzIFts",
      "include_colab_link": true
    },
    "kernelspec": {
      "name": "python3",
      "display_name": "Python 3"
    },
    "language_info": {
      "name": "python"
    }
  },
  "cells": [
    {
      "cell_type": "markdown",
      "metadata": {
        "id": "view-in-github",
        "colab_type": "text"
      },
      "source": [
        "<a href=\"https://colab.research.google.com/github/aathreya-sharma/blockchain-bandit/blob/main/22bcs024.ipynb\" target=\"_parent\"><img src=\"https://colab.research.google.com/assets/colab-badge.svg\" alt=\"Open In Colab\"/></a>"
      ]
    },
    {
      "cell_type": "code",
      "execution_count": null,
      "metadata": {
        "colab": {
          "base_uri": "https://localhost:8080/"
        },
        "id": "UG6S373Sj5Lk",
        "outputId": "10f82b37-e8d4-4caa-b2f3-6bad362007d5"
      },
      "outputs": [
        {
          "output_type": "stream",
          "name": "stdout",
          "text": [
            "Collecting eth-keys\n",
            "  Downloading eth_keys-0.7.0-py3-none-any.whl.metadata (13 kB)\n",
            "Collecting eth-utils>=2 (from eth-keys)\n",
            "  Downloading eth_utils-5.2.0-py3-none-any.whl.metadata (5.4 kB)\n",
            "Collecting eth-typing>=3 (from eth-keys)\n",
            "  Downloading eth_typing-5.2.0-py3-none-any.whl.metadata (3.2 kB)\n",
            "Requirement already satisfied: typing_extensions>=4.5.0 in /usr/local/lib/python3.11/dist-packages (from eth-typing>=3->eth-keys) (4.13.1)\n",
            "Collecting eth-hash>=0.3.1 (from eth-utils>=2->eth-keys)\n",
            "  Downloading eth_hash-0.7.1-py3-none-any.whl.metadata (4.2 kB)\n",
            "Collecting cytoolz>=0.10.1 (from eth-utils>=2->eth-keys)\n",
            "  Downloading cytoolz-1.0.1-cp311-cp311-manylinux_2_17_x86_64.manylinux2014_x86_64.whl.metadata (4.6 kB)\n",
            "Requirement already satisfied: toolz>=0.8.0 in /usr/local/lib/python3.11/dist-packages (from cytoolz>=0.10.1->eth-utils>=2->eth-keys) (0.12.1)\n",
            "Downloading eth_keys-0.7.0-py3-none-any.whl (20 kB)\n",
            "Downloading eth_typing-5.2.0-py3-none-any.whl (19 kB)\n",
            "Downloading eth_utils-5.2.0-py3-none-any.whl (100 kB)\n",
            "\u001b[2K   \u001b[90m━━━━━━━━━━━━━━━━━━━━━━━━━━━━━━━━━━━━━━━━\u001b[0m \u001b[32m100.5/100.5 kB\u001b[0m \u001b[31m4.3 MB/s\u001b[0m eta \u001b[36m0:00:00\u001b[0m\n",
            "\u001b[?25hDownloading cytoolz-1.0.1-cp311-cp311-manylinux_2_17_x86_64.manylinux2014_x86_64.whl (2.1 MB)\n",
            "\u001b[2K   \u001b[90m━━━━━━━━━━━━━━━━━━━━━━━━━━━━━━━━━━━━━━━━\u001b[0m \u001b[32m2.1/2.1 MB\u001b[0m \u001b[31m16.2 MB/s\u001b[0m eta \u001b[36m0:00:00\u001b[0m\n",
            "\u001b[?25hDownloading eth_hash-0.7.1-py3-none-any.whl (8.0 kB)\n",
            "Installing collected packages: eth-typing, eth-hash, cytoolz, eth-utils, eth-keys\n",
            "Successfully installed cytoolz-1.0.1 eth-hash-0.7.1 eth-keys-0.7.0 eth-typing-5.2.0 eth-utils-5.2.0\n"
          ]
        }
      ],
      "source": [
        "!pip install eth-keys"
      ]
    },
    {
      "cell_type": "code",
      "source": [
        "!pip install eth-hash[pysha3]"
      ],
      "metadata": {
        "colab": {
          "base_uri": "https://localhost:8080/"
        },
        "id": "j_icVgz6kWj9",
        "outputId": "3807ee37-0841-495c-b600-97a121df8023"
      },
      "execution_count": null,
      "outputs": [
        {
          "output_type": "stream",
          "name": "stdout",
          "text": [
            "Requirement already satisfied: eth-hash[pysha3] in /usr/local/lib/python3.11/dist-packages (0.7.1)\n",
            "Collecting safe-pysha3>=1.0.0 (from eth-hash[pysha3])\n",
            "  Downloading safe-pysha3-1.0.4.tar.gz (827 kB)\n",
            "\u001b[2K     \u001b[90m━━━━━━━━━━━━━━━━━━━━━━━━━━━━━━━━━━━━━━━━\u001b[0m \u001b[32m827.7/827.7 kB\u001b[0m \u001b[31m33.3 MB/s\u001b[0m eta \u001b[36m0:00:00\u001b[0m\n",
            "\u001b[?25h  Preparing metadata (setup.py) ... \u001b[?25l\u001b[?25hdone\n",
            "Building wheels for collected packages: safe-pysha3\n",
            "  Building wheel for safe-pysha3 (setup.py) ... \u001b[?25l\u001b[?25hdone\n",
            "  Created wheel for safe-pysha3: filename=safe_pysha3-1.0.4-cp311-cp311-linux_x86_64.whl size=147640 sha256=2d29116a8827b09b8f52359e1c03b4aac2216f36683ad6a1e5f5e5d45ddff4bd\n",
            "  Stored in directory: /root/.cache/pip/wheels/b3/ef/41/7bba4fbb915ace87eea10e6a287a991a7ced54d98726906766\n",
            "Successfully built safe-pysha3\n",
            "Installing collected packages: safe-pysha3\n",
            "Successfully installed safe-pysha3-1.0.4\n"
          ]
        }
      ]
    },
    {
      "cell_type": "code",
      "source": [
        "from eth_keys import keys\n",
        "from eth_utils import to_checksum_address\n",
        "\n",
        "# Custom private key (replace with your own 32-byte hex key)\n",
        "private_key_hex = \"2\".zfill(64)\n",
        "\n",
        "# Convert the private key from hex to bytes\n",
        "private_key_bytes = bytes.fromhex(private_key_hex)\n",
        "\n",
        "# Generate the private key object\n",
        "private_key = keys.PrivateKey(private_key_bytes)\n",
        "\n",
        "# Get the corresponding public key\n",
        "public_key = private_key.public_key\n",
        "\n",
        "# Generate the Ethereum address\n",
        "eth_address = public_key.to_address()\n",
        "\n",
        "# Convert to checksum address for better readability\n",
        "checksum_address = to_checksum_address(eth_address)\n",
        "\n",
        "# Print results\n",
        "print(f\"Private Key: {private_key}\")\n",
        "print(f\"Public Key: {public_key}\")\n",
        "print(f\"Ethereum Address: {checksum_address}\")"
      ],
      "metadata": {
        "colab": {
          "base_uri": "https://localhost:8080/"
        },
        "id": "DKMKYl13kK6S",
        "outputId": "6a269aa3-2db8-4f7c-942e-85c0405fdad8"
      },
      "execution_count": null,
      "outputs": [
        {
          "output_type": "stream",
          "name": "stdout",
          "text": [
            "Private Key: 0x0000000000000000000000000000000000000000000000000000000000000002\n",
            "Public Key: 0xc6047f9441ed7d6d3045406e95c07cd85c778e4b8cef3ca7abac09b95c709ee51ae168fea63dc339a3c58419466ceaeef7f632653266d0e1236431a950cfe52a\n",
            "Ethereum Address: 0x2B5AD5c4795c026514f8317c7a215E218DcCD6cF\n"
          ]
        }
      ]
    },
    {
      "cell_type": "code",
      "source": [],
      "metadata": {
        "id": "W3IU42ZNkZx5"
      },
      "execution_count": null,
      "outputs": []
    }
  ]
}